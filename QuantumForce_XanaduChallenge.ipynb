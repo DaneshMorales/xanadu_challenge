{
  "nbformat": 4,
  "nbformat_minor": 0,
  "metadata": {
    "colab": {
      "provenance": []
    },
    "kernelspec": {
      "name": "python3",
      "display_name": "Python 3"
    },
    "language_info": {
      "name": "python"
    }
  },
  "cells": [
    {
      "cell_type": "markdown",
      "source": [
        "# Xanadu Challenge | Qiskit Fall Fest Latino 2023"
      ],
      "metadata": {
        "id": "chID7-5WxWQO"
      }
    },
    {
      "cell_type": "markdown",
      "source": [
        "## Presented by: QuantumForce"
      ],
      "metadata": {
        "id": "jkj-3QLsxkCG"
      }
    },
    {
      "cell_type": "markdown",
      "source": [
        "### Members:\n",
        "\n",
        "*   Danesh Morales Hashemi (bobbybomb#3873)\n",
        "*   Alejandro Sebastián Benítez Rodríguez (sebas_ben135#8087)\n",
        "*   José Felipe De León (josdelen#4499)\n",
        "*   David Rivera Cardenas (david.rivera#7896)\n",
        "*   Marc Edson Urcia Soto (marcksito#8235)"
      ],
      "metadata": {
        "id": "N3zeephWxuOM"
      }
    },
    {
      "cell_type": "markdown",
      "source": [
        "For this challenge we provided a variational quantum circuit in PennyLane that depends on a set of trainable parameters. The circuit produces a single number as the expectation value of a fixed measurement.\n",
        "\n",
        "The minimum expectation value of this circuit can be produced by optimizing its parameters. This leads to converting the circuit into a QNode. It was coded using one of the PennyLane optimizers called AdamOptimizer.\n",
        "\n",
        "First, we will start by importing the libraries we are going to need and declare certain constants"
      ],
      "metadata": {
        "id": "USEUESkHx4Sn"
      }
    },
    {
      "cell_type": "code",
      "source": [
        "import pennylane as qml\n",
        "from pennylane import numpy as np\n",
        "\n",
        "WIRES = 2\n",
        "LAYERS = 5\n",
        "NUM_PARAMETERS = LAYERS * WIRES * 3"
      ],
      "metadata": {
        "id": "YBKYr8FBx-Dv"
      },
      "execution_count": 14,
      "outputs": []
    },
    {
      "cell_type": "markdown",
      "source": [
        "Now, we will define the function `variational_circuit` which was already given to us."
      ],
      "metadata": {
        "id": "kkFvr-sWyVYg"
      }
    },
    {
      "cell_type": "code",
      "source": [
        "def variational_circuit(params,hamiltonian):\n",
        "    \"\"\"\n",
        "    This is a template variational quantum circuit containing a fixed layout of gates with variable\n",
        "    parameters. To be used as a QNode, it must either be wrapped with the @qml.qnode decorator or\n",
        "    converted using the qml.QNode function.\n",
        "\n",
        "    The output of this circuit is the expectation value of a Hamiltonian, somehow encoded in\n",
        "    the hamiltonian argument\n",
        "\n",
        "    Args:\n",
        "        - params (np.ndarray): An array of optimizable parameters of shape (30,)\n",
        "        - hamiltonian (np.ndarray): An array of real parameters encoding the Hamiltonian\n",
        "        whose expectation value is returned.\n",
        "\n",
        "    Returns:\n",
        "        (float): The expectation value of the Hamiltonian\n",
        "    \"\"\"\n",
        "    parameters = params.reshape((LAYERS, WIRES, 3))\n",
        "    qml.templates.StronglyEntanglingLayers(parameters, wires=range(WIRES))\n",
        "    return qml.expval(qml.Hermitian(hamiltonian, wires = [0,1]))"
      ],
      "metadata": {
        "id": "BDUbAqt7yOnv"
      },
      "execution_count": 3,
      "outputs": []
    },
    {
      "cell_type": "markdown",
      "source": [
        "We need to create a function `optimize_circuit` so that it minimizes the variational circuit. We were given a template for the function that we had to fill up, the template is the following:"
      ],
      "metadata": {
        "id": "ZngfpcCey4ob"
      }
    },
    {
      "cell_type": "code",
      "source": [
        "def optimize_circuit(hamiltonian):\n",
        "    \"\"\"Minimize the variational circuit and return its minimum value.\n",
        "    You should create a device and convert the variational_circuit function\n",
        "    into an executable QNode.\n",
        "    Next, you should minimize the variational circuit using gradient-based\n",
        "    optimization to update the input params.\n",
        "    Return the optimized value of the QNode as a single floating-point number.\n",
        "\n",
        "    Args:\n",
        "        - params (np.ndarray): Input parameters to be optimized, of dimension 30\n",
        "        - hamiltonian (np.ndarray): An array of real parameters encoding the Hamiltonian\n",
        "        whose expectation value you should minimize.\n",
        "    Returns:\n",
        "        float: the value of the optimized QNode\n",
        "    \"\"\"\n",
        "\n",
        "    hamiltonian = np.array(hamiltonian, requires_grad = False)\n",
        "\n",
        "    hamiltonian = np.array(hamiltonian,float).reshape((2 ** WIRES), (2 ** WIRES))\n",
        "\n",
        "    ### WRITE YOUR CODE BELOW THIS LINE\n",
        "\n",
        "    ### Solution Template\n",
        "\n",
        "    dev = None # Initialize the device.\n",
        "\n",
        "    circuit = None # Instantiate the QNode from variational_circuit.\n",
        "\n",
        "    # Write your code to minimize the circuit\n",
        "\n",
        "    return None # Return the value of the minimized QNode"
      ],
      "metadata": {
        "id": "cRscc2Ncy3yS"
      },
      "execution_count": 5,
      "outputs": []
    },
    {
      "cell_type": "markdown",
      "source": [
        "We will now explain how we filled up the function template. Since we are given `hamiltonian`, we need `params` to call the function `variational circuit`. `params` will be an array of initial values of same size as `hamiltonian` that will be updated by the optimizer. Deciding which initial values `params` has is very crucial to find the most accurate optimization. We tried with different options, such as an array of zeroes (given by `np.zeros()`) or just an array of random numbers. After many different attempts, the best option was an array of uniformly distributed values. By initializing parameters within $[0, 2π]$, we are providing a reasonable starting point for the optimization algorithm to explore the parameter space effectively."
      ],
      "metadata": {
        "id": "jdJJ2pjmzfoJ"
      }
    },
    {
      "cell_type": "code",
      "source": [
        "params = np.random.uniform(0, 2*np.pi, size=(NUM_PARAMETERS))"
      ],
      "metadata": {
        "id": "UYFb_gPPzV6h"
      },
      "execution_count": 6,
      "outputs": []
    },
    {
      "cell_type": "markdown",
      "source": [
        "To initialize the device and circuit we use as a reference the articles [Variational classifier](https://pennylane.ai/qml/demos/tutorial_variational_classifier/) and [qml.QNode documentation](https://docs.pennylane.ai/en/stable/code/api/pennylane.QNode.html) from the PennyLane website.\n",
        "\n"
      ],
      "metadata": {
        "id": "HgnYqh5M1o66"
      }
    },
    {
      "cell_type": "code",
      "source": [
        "dev = qml.device(\"default.qubit\", wires = WIRES)\n",
        "\n",
        "circuit = qml.QNode(variational_circuit, dev)"
      ],
      "metadata": {
        "id": "T9GKTdqM1Rp_"
      },
      "execution_count": 7,
      "outputs": []
    },
    {
      "cell_type": "markdown",
      "source": [
        "Now, we need to cost function that finds the error between the current state of your system (in this case, the variational quantum circuit) and the desired outcome (the expectation value of the Hamiltonian). From the article [Basic tutorial: qubit rotation](https://pennylane.ai/qml/demos/tutorial_qubit_rotation/) in the PennyLane website we found an example of a cost function that gets the job done."
      ],
      "metadata": {
        "id": "N5kYdRgQ4wI6"
      }
    },
    {
      "cell_type": "code",
      "source": [
        "def cost(parameters):\n",
        "    return circuit(parameters, hamiltonian)"
      ],
      "metadata": {
        "id": "ML6UuvIx3hzw"
      },
      "execution_count": 8,
      "outputs": []
    },
    {
      "cell_type": "markdown",
      "source": [
        "Choosing an optimizer is an important decision in the optimization process, as different optimizers work differently. PennyLane has [many options for optimizers](https://openqaoa.entropicalabs.com/optimizers/pennylane-optimizers/). After testing several options, the [Adam Optimizer](https://docs.pennylane.ai/en/stable/code/api/pennylane.AdamOptimizer.html) gave us the most accurate results."
      ],
      "metadata": {
        "id": "A74HDcev50ns"
      }
    },
    {
      "cell_type": "code",
      "source": [
        "optimizer = qml.AdamOptimizer(stepsize=0.1)"
      ],
      "metadata": {
        "id": "Wr07Vw775axi"
      },
      "execution_count": 9,
      "outputs": []
    },
    {
      "cell_type": "markdown",
      "source": [
        "It is time to update the values of `params` to minimize the cost function. We can update `params` in a loop which will make the cost function be reduced in every iteration."
      ],
      "metadata": {
        "id": "3oiJi55A6j-b"
      }
    },
    {
      "cell_type": "code",
      "source": [
        "for i in range(100):\n",
        "    params = optimizer.step(cost, params)"
      ],
      "metadata": {
        "id": "2Or4_4Jk6hOQ"
      },
      "execution_count": null,
      "outputs": []
    },
    {
      "cell_type": "markdown",
      "source": [
        "After optimizing `params`, our desired output is the minimum expectation value of `hamiltonian`, given by `circuit(params,hamiltonian)`. We now provide the complete code of the `optimize_circuit` function."
      ],
      "metadata": {
        "id": "iyFaMy7h8JJJ"
      }
    },
    {
      "cell_type": "code",
      "source": [
        "def optimize_circuit(hamiltonian):\n",
        "    \"\"\"Minimize the variational circuit and return its minimum value.\n",
        "    You should create a device and convert the variational_circuit function\n",
        "    into an executable QNode.\n",
        "    Next, you should minimize the variational circuit using gradient-based\n",
        "    optimization to update the input params.\n",
        "    Return the optimized value of the QNode as a single floating-point number.\n",
        "\n",
        "    Args:\n",
        "        - params (np.ndarray): Input parameters to be optimized, of dimension 30\n",
        "        - hamiltonian (np.ndarray): An array of real parameters encoding the Hamiltonian\n",
        "        whose expectation value you should minimize.\n",
        "    Returns:\n",
        "        float: the value of the optimized QNode\n",
        "    \"\"\"\n",
        "\n",
        "    hamiltonian = np.array(hamiltonian, requires_grad = False)\n",
        "\n",
        "    hamiltonian = np.array(hamiltonian,float).reshape((2 ** WIRES), (2 ** WIRES))\n",
        "\n",
        "    ### WRITE YOUR CODE BELOW THIS LINE\n",
        "\n",
        "    ### Solution Template\n",
        "\n",
        "    params = np.random.uniform(0, 2*np.pi, size=(NUM_PARAMETERS))\n",
        "\n",
        "    dev = qml.device(\"default.qubit\", wires = WIRES)\n",
        "\n",
        "    circuit = qml.QNode(variational_circuit, dev)\n",
        "\n",
        "    # Write your code to minimize the circuit\n",
        "\n",
        "    def cost(parameters):\n",
        "        return circuit(parameters, hamiltonian)\n",
        "\n",
        "    optimizer = qml.AdamOptimizer(stepsize=0.1)\n",
        "\n",
        "\n",
        "    for i in range(100):\n",
        "        params = optimizer.step(cost, params)\n",
        "\n",
        "    min_expectation = circuit(params, hamiltonian)\n",
        "\n",
        "    return min_expectation.item()"
      ],
      "metadata": {
        "id": "gxLUnYhx7Suo"
      },
      "execution_count": 32,
      "outputs": []
    },
    {
      "cell_type": "markdown",
      "source": [
        "We provide a function that checks if our output matches the desired output, with a tolerance of 0.001, as instructed."
      ],
      "metadata": {
        "id": "rG-EPI_29XT6"
      }
    },
    {
      "cell_type": "code",
      "source": [
        "def check_result(hamiltonian,desired_output):\n",
        "\n",
        "    tolerance = 0.001\n",
        "\n",
        "    return True if np.abs(optimize_circuit(hamiltonian) - desired_output) < tolerance else False"
      ],
      "metadata": {
        "id": "E-wxSaEu9XGd"
      },
      "execution_count": 19,
      "outputs": []
    },
    {
      "cell_type": "markdown",
      "source": [
        "We will now test the two test cases given."
      ],
      "metadata": {
        "id": "tPktHRFj-ewR"
      }
    },
    {
      "cell_type": "code",
      "source": [
        "hamiltonian_1 = [0.863327072347624,0.0167108057202516,0.07991447085492759,0.0854049026262154, 0.0167108057202516,0.8237963773906136,-0.07695947154193797,0.03131548733285282, 0.07991447085492759,-0.07695947154193795,0.8355417021014687,-0.11345916130631205, 0.08540490262621539,0.03131548733285283,-0.11345916130631205,0.758156886827099]\n",
        "output_1 = 0.61745341\n",
        "\n",
        "hamiltonian_2 = [0.32158897156285354,-0.20689268438270836,0.12366748295758379,-0.11737425017261123,-0.20689268438270836,0.7747346055276305,-0.05159966365446514,0.08215539696259792,0.12366748295758379,-0.05159966365446514,0.5769050487087416,0.3853362904758938,-0.11737425017261123,0.08215539696259792,0.3853362904758938,0.3986256655167206]\n",
        "output_2 = 0.00246488"
      ],
      "metadata": {
        "id": "COESBE_88yUI"
      },
      "execution_count": 20,
      "outputs": []
    },
    {
      "cell_type": "code",
      "source": [
        "check_result(hamiltonian_1, output_1)"
      ],
      "metadata": {
        "colab": {
          "base_uri": "https://localhost:8080/"
        },
        "id": "KI6s4jYs_LSd",
        "outputId": "bbd011b5-2bc5-4377-d468-b6e244f58f80"
      },
      "execution_count": 33,
      "outputs": [
        {
          "output_type": "execute_result",
          "data": {
            "text/plain": [
              "True"
            ]
          },
          "metadata": {},
          "execution_count": 33
        }
      ]
    },
    {
      "cell_type": "code",
      "source": [
        "check_result(hamiltonian_2, output_2)"
      ],
      "metadata": {
        "colab": {
          "base_uri": "https://localhost:8080/"
        },
        "id": "45Nhh_zu_NhO",
        "outputId": "c31aa890-9498-42dd-8dd6-15fe8cae7687"
      },
      "execution_count": 34,
      "outputs": [
        {
          "output_type": "execute_result",
          "data": {
            "text/plain": [
              "True"
            ]
          },
          "metadata": {},
          "execution_count": 34
        }
      ]
    },
    {
      "cell_type": "markdown",
      "source": [
        "## Conclusion"
      ],
      "metadata": {
        "id": "JhSETqG1_l6c"
      }
    },
    {
      "cell_type": "markdown",
      "source": [
        "* This work provides a practical demonstration of variational quantum circuit optimization using PennyLane.\n",
        "\n",
        "* The final set of optimized parameters represents a solution that minimizes the Hamiltonian's expectation value.\n",
        "\n",
        "* Using the Adam Optimizer, we iteratively adjusted the circuit parameters, achieving convergence within 200 iterations.\n"
      ],
      "metadata": {
        "id": "B8WlBBpMAJP9"
      }
    }
  ]
}